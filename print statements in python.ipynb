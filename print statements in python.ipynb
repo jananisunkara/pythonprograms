{
 "cells": [
  {
   "cell_type": "code",
   "execution_count": 1,
   "id": "646fe010",
   "metadata": {},
   "outputs": [
    {
     "name": "stdout",
     "output_type": "stream",
     "text": [
      "Hello World\n"
     ]
    }
   ],
   "source": [
    "print(\"Hello World\")"
   ]
  },
  {
   "cell_type": "code",
   "execution_count": 2,
   "id": "9705662e",
   "metadata": {},
   "outputs": [
    {
     "name": "stdout",
     "output_type": "stream",
     "text": [
      "Hello\n",
      "\n",
      "\n",
      "World\n"
     ]
    }
   ],
   "source": [
    "print(\"Hello\")\n",
    "print(\"\\n\")\n",
    "print(\"World\")"
   ]
  },
  {
   "cell_type": "code",
   "execution_count": 3,
   "id": "94b2cec5",
   "metadata": {},
   "outputs": [
    {
     "name": "stdout",
     "output_type": "stream",
     "text": [
      "Hello\n",
      "\n",
      "\n",
      "\n",
      "\n",
      "\n",
      "\n",
      "World\n"
     ]
    }
   ],
   "source": [
    "print(\"Hello\")\n",
    "print(5*\"\\n\")\n",
    "print(\"World\")"
   ]
  },
  {
   "cell_type": "code",
   "execution_count": 4,
   "id": "6dccc228",
   "metadata": {},
   "outputs": [
    {
     "name": "stdout",
     "output_type": "stream",
     "text": [
      "Hello World!!!"
     ]
    }
   ],
   "source": [
    "# with Sep and End Parameters\n",
    "print('Hello','World',sep=' ',end='!!!')"
   ]
  },
  {
   "cell_type": "code",
   "execution_count": 5,
   "id": "a5205f73",
   "metadata": {},
   "outputs": [
    {
     "name": "stdout",
     "output_type": "stream",
     "text": [
      "Hi Hello World!!!\n"
     ]
    }
   ],
   "source": [
    "#using string concatenation\n",
    "string1 = \"Hi \"\n",
    "string2 = \"Hello \"\n",
    "string3 = \"World\"\n",
    "string4 = \"!!!\"\n",
    "print(string1+string2+string3+string4)"
   ]
  },
  {
   "cell_type": "code",
   "execution_count": 7,
   "id": "fd4bcf4b",
   "metadata": {},
   "outputs": [
    {
     "name": "stdout",
     "output_type": "stream",
     "text": [
      "Mouni walked and looked around\n"
     ]
    }
   ],
   "source": [
    "#formatting strings\n",
    "x = 'looked'\n",
    " \n",
    "print(\"Mouni %s and %s around\"%('walked',x))"
   ]
  },
  {
   "cell_type": "code",
   "execution_count": 8,
   "id": "d924d681",
   "metadata": {},
   "outputs": [
    {
     "name": "stdout",
     "output_type": "stream",
     "text": [
      "Her named is candy.\n"
     ]
    }
   ],
   "source": [
    "print('Her named %s candy.' %'is')"
   ]
  },
  {
   "cell_type": "code",
   "execution_count": 9,
   "id": "0d703bb7",
   "metadata": {},
   "outputs": [
    {
     "name": "stdout",
     "output_type": "stream",
     "text": [
      "The value of pi is: 3.1416\n"
     ]
    }
   ],
   "source": [
    "print('The value of pi is: %5.4f' %(3.141592))"
   ]
  },
  {
   "cell_type": "code",
   "execution_count": 10,
   "id": "2be7b977",
   "metadata": {},
   "outputs": [
    {
     "name": "stdout",
     "output_type": "stream",
     "text": [
      "We all are equal.\n"
     ]
    }
   ],
   "source": [
    "#formatting string using format\n",
    "print('We all are {}.'.format('equal'))"
   ]
  },
  {
   "cell_type": "code",
   "execution_count": 11,
   "id": "cebd9eb2",
   "metadata": {},
   "outputs": [
    {
     "name": "stdout",
     "output_type": "stream",
     "text": [
      "I love music\n"
     ]
    }
   ],
   "source": [
    "print('{1} {0} {2}'.format('love','I','music'))"
   ]
  },
  {
   "cell_type": "code",
   "execution_count": 12,
   "id": "4dcf938e",
   "metadata": {},
   "outputs": [
    {
     "name": "stdout",
     "output_type": "stream",
     "text": [
      "a: 2, b: Three, c: 15\n"
     ]
    }
   ],
   "source": [
    "print('a: {a}, b: {b}, c: {c}'.format(a = 2, b = 'Three',c = 15))"
   ]
  },
  {
   "cell_type": "code",
   "execution_count": 13,
   "id": "cc85127c",
   "metadata": {},
   "outputs": [
    {
     "name": "stdout",
     "output_type": "stream",
     "text": [
      "My name is Janani.\n"
     ]
    }
   ],
   "source": [
    "#formatting string with f-strings\n",
    "name = 'Janani'\n",
    " \n",
    "print(f\"My name is {name}.\")"
   ]
  },
  {
   "cell_type": "code",
   "execution_count": 14,
   "id": "df1a316e",
   "metadata": {},
   "outputs": [
    {
     "name": "stdout",
     "output_type": "stream",
     "text": [
      "He said his age is 70.\n"
     ]
    }
   ],
   "source": [
    "a = 15\n",
    " \n",
    "b = 20\n",
    " \n",
    "print(f\"He said his age is {2 * (a + b)}.\")"
   ]
  },
  {
   "cell_type": "code",
   "execution_count": null,
   "id": "c6bfd338",
   "metadata": {},
   "outputs": [],
   "source": [
    " "
   ]
  }
 ],
 "metadata": {
  "kernelspec": {
   "display_name": "Python 3 (ipykernel)",
   "language": "python",
   "name": "python3"
  },
  "language_info": {
   "codemirror_mode": {
    "name": "ipython",
    "version": 3
   },
   "file_extension": ".py",
   "mimetype": "text/x-python",
   "name": "python",
   "nbconvert_exporter": "python",
   "pygments_lexer": "ipython3",
   "version": "3.9.12"
  }
 },
 "nbformat": 4,
 "nbformat_minor": 5
}
