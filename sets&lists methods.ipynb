{
 "cells": [
  {
   "cell_type": "code",
   "execution_count": 7,
   "id": "24376f84",
   "metadata": {},
   "outputs": [
    {
     "name": "stdout",
     "output_type": "stream",
     "text": [
      "Set after updating: {3, 4, 5, 6, 7, 10}\n"
     ]
    }
   ],
   "source": [
    "#set methods\n",
    "set = {3,4,5,6,7}\n",
    "set.add(10)\n",
    "print('Set after updating:', set)"
   ]
  },
  {
   "cell_type": "code",
   "execution_count": 8,
   "id": "e5971aa4",
   "metadata": {},
   "outputs": [
    {
     "name": "stdout",
     "output_type": "stream",
     "text": [
      "Set after updating: set()\n"
     ]
    }
   ],
   "source": [
    "set ={'a','s','j','g','v','m','n'}\n",
    "set.clear()\n",
    "print('Set after updating:', set)"
   ]
  },
  {
   "cell_type": "code",
   "execution_count": 9,
   "id": "410fbce8",
   "metadata": {},
   "outputs": [
    {
     "name": "stdout",
     "output_type": "stream",
     "text": [
      "Set after updating: {0, 1, 2, 3}\n"
     ]
    }
   ],
   "source": [
    "set = {-1,0,1,2,3}\n",
    "set.discard(-1)\n",
    "print('Set after updating:', set)"
   ]
  },
  {
   "cell_type": "code",
   "execution_count": 10,
   "id": "8bd465f1",
   "metadata": {},
   "outputs": [
    {
     "name": "stdout",
     "output_type": "stream",
     "text": [
      "Set after updating: {17, 20, 25, 31, 30, 15}\n"
     ]
    }
   ],
   "source": [
    "set  = {25,15,20,31,17,30}\n",
    "set.copy()\n",
    "print('Set after updating:', set)"
   ]
  },
  {
   "cell_type": "code",
   "execution_count": 13,
   "id": "8fc4466f",
   "metadata": {},
   "outputs": [
    {
     "name": "stdout",
     "output_type": "stream",
     "text": [
      "Set after updating: {15, 20, 25, 30, 31}\n"
     ]
    }
   ],
   "source": [
    "s1  = {25,15,20,31,17,30}\n",
    "s2  = {2,1,5,3,17,0}\n",
    "set = s1-s2\n",
    "set.difference()\n",
    "print('Set after updating:', set)"
   ]
  },
  {
   "cell_type": "code",
   "execution_count": 16,
   "id": "947cb6cc",
   "metadata": {},
   "outputs": [
    {
     "name": "stdout",
     "output_type": "stream",
     "text": [
      "Set after updating: {1, 2}\n"
     ]
    }
   ],
   "source": [
    "s1  = {0,1,2,3}\n",
    "s2  = {2,1,5,6,7}\n",
    "set = s1.intersection(s2)\n",
    "print('Set after updating:', set)"
   ]
  },
  {
   "cell_type": "code",
   "execution_count": 18,
   "id": "d3f9e48f",
   "metadata": {},
   "outputs": [
    {
     "name": "stdout",
     "output_type": "stream",
     "text": [
      "Set after updating: None\n"
     ]
    }
   ],
   "source": [
    "s1  = {0,1,2,3}\n",
    "s2  = {2,1,5,6,7}\n",
    "set = s1.intersection_update(s2)\n",
    "print('Set after updating:', set)"
   ]
  },
  {
   "cell_type": "code",
   "execution_count": 19,
   "id": "edcf243f",
   "metadata": {},
   "outputs": [
    {
     "name": "stdout",
     "output_type": "stream",
     "text": [
      "Set after updating: {0, 1, 2, 3, 5, 6, 7}\n"
     ]
    }
   ],
   "source": [
    "s1  = {0,1,2,3}\n",
    "s2  = {2,1,5,6,7}\n",
    "set = s1.union(s2)\n",
    "print('Set after updating:', set)"
   ]
  },
  {
   "cell_type": "code",
   "execution_count": 20,
   "id": "c621e6ae",
   "metadata": {},
   "outputs": [
    {
     "name": "stdout",
     "output_type": "stream",
     "text": [
      "Set after updating: {0, 3, 5, 6, 7}\n"
     ]
    }
   ],
   "source": [
    "s1  = {0,1,2,3}\n",
    "s2  = {2,1,5,6,7}\n",
    "set = s1.symmetric_difference(s2)\n",
    "print('Set after updating:', set)"
   ]
  },
  {
   "cell_type": "code",
   "execution_count": 43,
   "id": "e70973ef",
   "metadata": {},
   "outputs": [
    {
     "data": {
      "text/plain": [
       "2"
      ]
     },
     "execution_count": 43,
     "metadata": {},
     "output_type": "execute_result"
    }
   ],
   "source": [
    "#list methods\n",
    "list = [0,2,3,4]\n",
    "list.index(3)"
   ]
  },
  {
   "cell_type": "code",
   "execution_count": 26,
   "id": "048af9fd",
   "metadata": {},
   "outputs": [
    {
     "data": {
      "text/plain": [
       "1"
      ]
     },
     "execution_count": 26,
     "metadata": {},
     "output_type": "execute_result"
    }
   ],
   "source": [
    "list = ['e','f','h','d','x']\n",
    "list.count('e')"
   ]
  },
  {
   "cell_type": "code",
   "execution_count": 34,
   "id": "6afc2c84",
   "metadata": {},
   "outputs": [
    {
     "data": {
      "text/plain": [
       "'banana'"
      ]
     },
     "execution_count": 34,
     "metadata": {},
     "output_type": "execute_result"
    }
   ],
   "source": [
    "fruits = ['apple', 'banana', 'cherry']\n",
    "\n",
    "fruits.pop(1)"
   ]
  },
  {
   "cell_type": "code",
   "execution_count": 38,
   "id": "0f4ebbb6",
   "metadata": {},
   "outputs": [
    {
     "name": "stdout",
     "output_type": "stream",
     "text": [
      "fruits after updating: ['apple', 'banana']\n"
     ]
    }
   ],
   "source": [
    "fruits = ['apple', 'banana', 'cherry']\n",
    "\n",
    "fruits.remove('cherry')\n",
    "print('fruits after updating:',fruits)"
   ]
  },
  {
   "cell_type": "code",
   "execution_count": 42,
   "id": "e57a0788",
   "metadata": {},
   "outputs": [
    {
     "name": "stdout",
     "output_type": "stream",
     "text": [
      "list after updating [9, 58, 4, 3]\n"
     ]
    }
   ],
   "source": [
    "list = [3,4,58,9]\n",
    "list.reverse()\n",
    "print('list after updating',list)"
   ]
  },
  {
   "cell_type": "code",
   "execution_count": 51,
   "id": "ee4b79f6",
   "metadata": {},
   "outputs": [
    {
     "name": "stdout",
     "output_type": "stream",
     "text": [
      "[3, 4, 58, 9, 2, 3, 6, 8]\n"
     ]
    }
   ],
   "source": [
    "l1 = [3,4,58,9]\n",
    "l2 = [2,3,6,8]\n",
    "list = l1.extend(l2)\n",
    "print(l1)"
   ]
  },
  {
   "cell_type": "code",
   "execution_count": 54,
   "id": "6f9b71d8",
   "metadata": {},
   "outputs": [
    {
     "name": "stdout",
     "output_type": "stream",
     "text": [
      "list after updating ['c', 'r', 'a', 'p', 't', 'd']\n"
     ]
    }
   ],
   "source": [
    "list = ['c','r','p','t','d']\n",
    "list.insert(2,'a')\n",
    "print('list after updating',list)"
   ]
  },
  {
   "cell_type": "code",
   "execution_count": 55,
   "id": "30d794a9",
   "metadata": {},
   "outputs": [
    {
     "name": "stdout",
     "output_type": "stream",
     "text": [
      "list after updating []\n"
     ]
    }
   ],
   "source": [
    "list = [3,4,58,9]\n",
    "list.clear()\n",
    "print('list after updating',list)"
   ]
  },
  {
   "cell_type": "code",
   "execution_count": null,
   "id": "76b25792",
   "metadata": {},
   "outputs": [],
   "source": []
  }
 ],
 "metadata": {
  "kernelspec": {
   "display_name": "Python 3 (ipykernel)",
   "language": "python",
   "name": "python3"
  },
  "language_info": {
   "codemirror_mode": {
    "name": "ipython",
    "version": 3
   },
   "file_extension": ".py",
   "mimetype": "text/x-python",
   "name": "python",
   "nbconvert_exporter": "python",
   "pygments_lexer": "ipython3",
   "version": "3.9.12"
  }
 },
 "nbformat": 4,
 "nbformat_minor": 5
}
