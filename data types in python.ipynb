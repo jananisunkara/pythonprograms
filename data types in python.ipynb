{
 "cells": [
  {
   "cell_type": "code",
   "execution_count": 1,
   "id": "3138b72b",
   "metadata": {
    "scrolled": true
   },
   "outputs": [
    {
     "name": "stdout",
     "output_type": "stream",
     "text": [
      "<class 'int'>\n"
     ]
    }
   ],
   "source": [
    "#data types\n",
    "x = 5\n",
    "print(type(x))"
   ]
  },
  {
   "cell_type": "code",
   "execution_count": 3,
   "id": "8c1b7257",
   "metadata": {},
   "outputs": [
    {
     "name": "stdout",
     "output_type": "stream",
     "text": [
      "Welcome to the world\n"
     ]
    }
   ],
   "source": [
    "String1 = ('Welcome to the world')\n",
    "print(String1) "
   ]
  },
  {
   "cell_type": "code",
   "execution_count": 4,
   "id": "9f06d0c6",
   "metadata": {},
   "outputs": [
    {
     "name": "stdout",
     "output_type": "stream",
     "text": [
      "[1, 2, 3, 4]\n"
     ]
    }
   ],
   "source": [
    "List = [1,2,3,4]  \n",
    "print(List) "
   ]
  },
  {
   "cell_type": "code",
   "execution_count": 5,
   "id": "2ca77af0",
   "metadata": {},
   "outputs": [
    {
     "name": "stdout",
     "output_type": "stream",
     "text": [
      "(-1, 0, 1, 2, 3)\n"
     ]
    }
   ],
   "source": [
    "Tuple1 = (-1,0,1,2,3) \n",
    "print (Tuple1) "
   ]
  },
  {
   "cell_type": "code",
   "execution_count": 6,
   "id": "53696d7a",
   "metadata": {},
   "outputs": [
    {
     "name": "stdout",
     "output_type": "stream",
     "text": [
      "2\n"
     ]
    }
   ],
   "source": [
    "tuple1 = tuple([1, 2, 3, 4, 5])\n",
    "print(tuple1[1])"
   ]
  },
  {
   "cell_type": "code",
   "execution_count": 7,
   "id": "3f29d26f",
   "metadata": {},
   "outputs": [
    {
     "name": "stdout",
     "output_type": "stream",
     "text": [
      "<class 'bool'>\n"
     ]
    }
   ],
   "source": [
    "print(type(True))"
   ]
  },
  {
   "cell_type": "code",
   "execution_count": 11,
   "id": "2bff7082",
   "metadata": {},
   "outputs": [
    {
     "name": "stdout",
     "output_type": "stream",
     "text": [
      "set[1, 3, 4, 8, 9]\n"
     ]
    }
   ],
   "source": [
    "set1 = set[1,3,4,8,9]  \n",
    "print(set1) "
   ]
  },
  {
   "cell_type": "code",
   "execution_count": 12,
   "id": "8ef03f13",
   "metadata": {},
   "outputs": [
    {
     "name": "stdout",
     "output_type": "stream",
     "text": [
      "{5, 7, 9, 10, 15}\n"
     ]
    }
   ],
   "source": [
    "Dict = {5,7,9,10,15}  \n",
    "print(Dict) "
   ]
  },
  {
   "cell_type": "code",
   "execution_count": 19,
   "id": "821b14f8",
   "metadata": {},
   "outputs": [
    {
     "name": "stdout",
     "output_type": "stream",
     "text": [
      "String 1: ('candy', 'ellie', 'cathy')\n",
      "String 2: ('carley', 'emma', 'sam')\n",
      "Concatenated two different strings: ('candy', 'ellie', 'cathy', 'carley', 'emma', 'sam')\n"
     ]
    }
   ],
   "source": [
    "str1=('candy','ellie','cathy')\n",
    "str2=('carley','emma','sam')\n",
    "print (\"String 1:\",str1)\n",
    "print (\"String 2:\",str2)\n",
    "str=str1+str2\n",
    "print(\"Concatenated two different strings:\",str)"
   ]
  },
  {
   "cell_type": "code",
   "execution_count": 22,
   "id": "998cf40d",
   "metadata": {},
   "outputs": [
    {
     "name": "stdout",
     "output_type": "stream",
     "text": [
      "PYT\n",
      "TH\n",
      "\n"
     ]
    }
   ],
   "source": [
    "string = ('PYTHON')\n",
    "s1 = slice(3)\n",
    "s2 = slice(2,4)\n",
    "s3 = slice(-1,0,1)\n",
    "print(string[s1])\n",
    "print(string[s2])\n",
    "print(string[s3])"
   ]
  },
  {
   "cell_type": "code",
   "execution_count": 25,
   "id": "72380a63",
   "metadata": {},
   "outputs": [
    {
     "name": "stdout",
     "output_type": "stream",
     "text": [
      "janani\n"
     ]
    }
   ],
   "source": [
    "str = ('Janani')\n",
    "print(str.lower())"
   ]
  },
  {
   "cell_type": "code",
   "execution_count": 26,
   "id": "faed5e69",
   "metadata": {},
   "outputs": [
    {
     "name": "stdout",
     "output_type": "stream",
     "text": [
      "JANANI\n"
     ]
    }
   ],
   "source": [
    "str = ('Janani')\n",
    "print(str.upper())"
   ]
  },
  {
   "cell_type": "code",
   "execution_count": 28,
   "id": "48431093",
   "metadata": {},
   "outputs": [
    {
     "name": "stdout",
     "output_type": "stream",
     "text": [
      "Janani\n"
     ]
    }
   ],
   "source": [
    "str = ('Janani')\n",
    "print(str.title())"
   ]
  },
  {
   "cell_type": "code",
   "execution_count": 29,
   "id": "91496dc5",
   "metadata": {},
   "outputs": [
    {
     "name": "stdout",
     "output_type": "stream",
     "text": [
      "False\n"
     ]
    }
   ],
   "source": [
    "str = ('Janani')\n",
    "print(str.endswith('a'))"
   ]
  },
  {
   "cell_type": "code",
   "execution_count": 30,
   "id": "ace447f6",
   "metadata": {},
   "outputs": [
    {
     "name": "stdout",
     "output_type": "stream",
     "text": [
      "1\n"
     ]
    }
   ],
   "source": [
    "str = ('Janani')\n",
    "print(str.find('a'))"
   ]
  },
  {
   "cell_type": "code",
   "execution_count": 31,
   "id": "d8d44f76",
   "metadata": {},
   "outputs": [
    {
     "name": "stdout",
     "output_type": "stream",
     "text": [
      "5\n"
     ]
    }
   ],
   "source": [
    "str = ('Janani')\n",
    "print(str.index('i'))"
   ]
  },
  {
   "cell_type": "code",
   "execution_count": 32,
   "id": "39dd38b2",
   "metadata": {},
   "outputs": [
    {
     "name": "stdout",
     "output_type": "stream",
     "text": [
      "False\n"
     ]
    }
   ],
   "source": [
    "str = ('Janani')\n",
    "print(str.isdigit())"
   ]
  },
  {
   "cell_type": "code",
   "execution_count": 33,
   "id": "dea74784",
   "metadata": {},
   "outputs": [
    {
     "name": "stdout",
     "output_type": "stream",
     "text": [
      "True\n"
     ]
    }
   ],
   "source": [
    "str = ('Janani')\n",
    "print(str.isidentifier())"
   ]
  },
  {
   "cell_type": "code",
   "execution_count": 34,
   "id": "6f0d3578",
   "metadata": {},
   "outputs": [
    {
     "name": "stdout",
     "output_type": "stream",
     "text": [
      "False\n"
     ]
    }
   ],
   "source": [
    "str = ('Janani')\n",
    "print(str.isnumeric())"
   ]
  },
  {
   "cell_type": "code",
   "execution_count": 36,
   "id": "53c44210",
   "metadata": {},
   "outputs": [
    {
     "name": "stdout",
     "output_type": "stream",
     "text": [
      "False\n"
     ]
    }
   ],
   "source": [
    "str = ('Janani')\n",
    "print(str.isspace())"
   ]
  },
  {
   "cell_type": "code",
   "execution_count": null,
   "id": "138d4c6d",
   "metadata": {},
   "outputs": [],
   "source": []
  }
 ],
 "metadata": {
  "kernelspec": {
   "display_name": "Python 3 (ipykernel)",
   "language": "python",
   "name": "python3"
  },
  "language_info": {
   "codemirror_mode": {
    "name": "ipython",
    "version": 3
   },
   "file_extension": ".py",
   "mimetype": "text/x-python",
   "name": "python",
   "nbconvert_exporter": "python",
   "pygments_lexer": "ipython3",
   "version": "3.9.12"
  }
 },
 "nbformat": 4,
 "nbformat_minor": 5
}
